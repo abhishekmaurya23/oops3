{
 "cells": [
  {
   "cell_type": "markdown",
   "id": "6bb51214-0650-4964-8254-845fe5bd8193",
   "metadata": {},
   "source": [
    "#que1\n",
    "In object-oriented programming (OOP), a class is a blueprint or template that defines the properties (attributes) and behaviors (methods) of objects. It is a way to create user-defined data structures that encapsulate data and related functionality. A class serves as a blueprint for creating multiple objects of the same type.\n",
    "\n",
    "An object, on the other hand, is an instance of a class. It represents a specific entity or item that is created based on the class definition. An object has its own unique state (attribute values) and can perform actions (method invocations) defined by the class.\n"
   ]
  },
  {
   "cell_type": "markdown",
   "id": "db434f7f-1e9d-48e4-be63-619809a76cce",
   "metadata": {},
   "source": [
    "#que2\n",
    "The four pillars of object-oriented programming (OOP) are:\n",
    "\n",
    "1.Encapsulation: Encapsulation is the process of bundling data (attributes) and methods (behaviors) together within a class. It enables the data to be accessed and manipulated only through the defined methods, providing data protection and abstraction. Encapsulation allows for better organization and modularization of code.\n",
    "\n",
    "2.Inheritance: Inheritance allows classes to inherit attributes and behaviors from other classes. It promotes code reuse and supports the creation of hierarchical relationships between classes. A derived class (also known as a subclass or child class) can inherit and extend the properties and methods of a base class (also known as a superclass or parent class).\n",
    "\n",
    "3.Polymorphism: Polymorphism refers to the ability of objects of different classes to respond to the same message or method invocation in different ways. It allows objects to exhibit different behaviors based on their specific class or type. Polymorphism enables code to be written in a more generic and flexible manner, promoting extensibility and modularity.\n",
    "\n",
    "4.Abstraction: Abstraction focuses on capturing only the essential details and hiding unnecessary complexities from the user. It allows the creation of abstract classes and interfaces that define a set of common methods without providing implementation details. Abstraction provides a high-level view of objects and their interactions, promoting code readability and reducing code complexity."
   ]
  },
  {
   "cell_type": "markdown",
   "id": "44c8d6f1-696f-4529-bf45-05849ecb0d9a",
   "metadata": {},
   "source": [
    "#que3\n",
    "The __init__() function is a special method in Python classes that is automatically called when an object of that class is created. It is used to initialize the attributes of the object and perform any necessary setup or configuration.\n",
    "\n",
    "The __init__() method is commonly known as the constructor of a class. It allows you to define and assign initial values to the attributes of an object when it is created. By convention, the self parameter is used in the __init__() method to refer to the instance of the class being initialized.\n",
    "\n",
    "Here's an example to illustrate the usage of the __init__() method:"
   ]
  },
  {
   "cell_type": "code",
   "execution_count": 2,
   "id": "f0ea26f6-519d-4f9e-915c-00868fc3a483",
   "metadata": {},
   "outputs": [
    {
     "name": "stdout",
     "output_type": "stream",
     "text": [
      "John\n",
      "25\n",
      "Hi, my name is John and I am 25 years old.\n"
     ]
    }
   ],
   "source": [
    "class Person:\n",
    "    def __init__(self, name, age):\n",
    "        self.name = name\n",
    "        self.age = age\n",
    "\n",
    "    def introduce(self):\n",
    "        print(f\"Hi, my name is {self.name} and I am {self.age} years old.\")\n",
    "\n",
    "# Create an object of the Person class\n",
    "person1 = Person(\"John\", 25)\n",
    "\n",
    "# Access object attributes\n",
    "print(person1.name)  # Output: John\n",
    "print(person1.age)  # Output: 25\n",
    "\n",
    "# Call object method\n",
    "person1.introduce()  # Output: Hi, my name is John and I am 25 years old.\n"
   ]
  },
  {
   "cell_type": "markdown",
   "id": "a023b618-b2fd-4976-8387-2b73a20d14ee",
   "metadata": {},
   "source": [
    "#que4\n",
    "In object-oriented programming (OOP), self is used as a convention to refer to the instance of a class within the class itself. It is a parameter that represents the instance of the class and allows access to its attributes and methods.\n",
    "\n",
    "The self parameter is commonly used in instance methods (such as __init__() or any other methods defined within the class) to refer to the object that the method is being called on. It serves as a reference to the specific instance of the class on which the method is being invoked.\n",
    "\n",
    "By using self, you can access and manipulate the instance variables (attributes) and call other instance methods of the class within its own methods. It provides a way to differentiate between the instance variables and local variables within the class."
   ]
  },
  {
   "cell_type": "markdown",
   "id": "cb3e07cc-77b6-4200-9879-f8564da5cdd3",
   "metadata": {},
   "source": [
    "#que5\n",
    "Inheritance is a fundamental concept in object-oriented programming (OOP) that allows a class to inherit attributes and behaviors from another class. The class that inherits is called the derived class, subclass, or child class, while the class being inherited from is called the base class, superclass, or parent class.\n",
    "\n",
    "Inheritance promotes code reuse, extensibility, and the creation of hierarchical relationships between classes. It allows the derived class to inherit and extend the properties and methods of the base class, while also enabling the addition of new attributes and behaviors specific to the derived class."
   ]
  },
  {
   "cell_type": "code",
   "execution_count": null,
   "id": "0c1d64a0-1a66-48be-b3a5-94f59acc54c7",
   "metadata": {},
   "outputs": [],
   "source": []
  }
 ],
 "metadata": {
  "kernelspec": {
   "display_name": "Python 3 (ipykernel)",
   "language": "python",
   "name": "python3"
  },
  "language_info": {
   "codemirror_mode": {
    "name": "ipython",
    "version": 3
   },
   "file_extension": ".py",
   "mimetype": "text/x-python",
   "name": "python",
   "nbconvert_exporter": "python",
   "pygments_lexer": "ipython3",
   "version": "3.10.6"
  }
 },
 "nbformat": 4,
 "nbformat_minor": 5
}
